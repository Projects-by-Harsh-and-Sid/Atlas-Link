{
 "cells": [
  {
   "cell_type": "code",
   "execution_count": 1,
   "metadata": {},
   "outputs": [],
   "source": [
    "import json\n",
    "import os"
   ]
  },
  {
   "cell_type": "code",
   "execution_count": 2,
   "metadata": {},
   "outputs": [],
   "source": [
    "# import items.json\n",
    "\n",
    "items = json.load(open('items.json'))\n",
    "open_orders = json.load(open('open_orders.json'))"
   ]
  },
  {
   "cell_type": "markdown",
   "metadata": {},
   "source": [
    "# Get information for chatgpt"
   ]
  },
  {
   "cell_type": "code",
   "execution_count": 3,
   "metadata": {},
   "outputs": [],
   "source": [
    "import json\n",
    "import pandas as pd\n",
    "\n",
    "def parse_json_file(file_path):\n",
    "    with open(file_path, 'r') as file:\n",
    "        data = json.load(file)\n",
    "    return data\n",
    "\n",
    "def extract_item_data(item):\n",
    "    return {\n",
    "        # \"_id\": item.get(\"_id\"),\n",
    "        \"itemType\": item.get(\"attributes\", {}).get(\"itemType\"),\n",
    "        \"rarity\": item.get(\"attributes\", {}).get(\"rarity\"),\n",
    "        \"tier\": item.get(\"attributes\", {}).get(\"tier\"),\n",
    "        \"class\": item.get(\"attributes\", {}).get(\"class\"),\n",
    "        \"category\": item.get(\"attributes\", {}).get(\"category\"),\n",
    "        \"image\": item.get(\"image\"),\n",
    "        \"description\": item.get(\"description\"),\n",
    "        \"name\": item.get(\"name\"),\n",
    "        \"symbol\": item.get(\"symbol\"),\n",
    "        \"make\": item.get(\"attributes\", {}).get(\"make\"),\n",
    "        \"model\": item.get(\"attributes\", {}).get(\"model\"),\n",
    "        \"mint_id\" : item.get(\"mint\"),\n",
    "    }\n",
    "\n",
    "def create_table_from_json(all_items):\n",
    "\n",
    "    extracted_data = [extract_item_data(item) for item in all_items]\n",
    "    df = pd.DataFrame(extracted_data)\n",
    "    return df\n",
    "\n"
   ]
  },
  {
   "cell_type": "code",
   "execution_count": 4,
   "metadata": {},
   "outputs": [
    {
     "data": {
      "text/html": [
       "<div>\n",
       "<style scoped>\n",
       "    .dataframe tbody tr th:only-of-type {\n",
       "        vertical-align: middle;\n",
       "    }\n",
       "\n",
       "    .dataframe tbody tr th {\n",
       "        vertical-align: top;\n",
       "    }\n",
       "\n",
       "    .dataframe thead th {\n",
       "        text-align: right;\n",
       "    }\n",
       "</style>\n",
       "<table border=\"1\" class=\"dataframe\">\n",
       "  <thead>\n",
       "    <tr style=\"text-align: right;\">\n",
       "      <th></th>\n",
       "      <th>itemType</th>\n",
       "      <th>rarity</th>\n",
       "      <th>tier</th>\n",
       "      <th>class</th>\n",
       "      <th>category</th>\n",
       "      <th>image</th>\n",
       "      <th>description</th>\n",
       "      <th>name</th>\n",
       "      <th>symbol</th>\n",
       "      <th>make</th>\n",
       "      <th>model</th>\n",
       "      <th>mint_id</th>\n",
       "    </tr>\n",
       "  </thead>\n",
       "  <tbody>\n",
       "    <tr>\n",
       "      <th>0</th>\n",
       "      <td>collectible</td>\n",
       "      <td>epic</td>\n",
       "      <td>6.0</td>\n",
       "      <td>poster</td>\n",
       "      <td>rebirth</td>\n",
       "      <td>https://storage.googleapis.com/nft-assets/ReBi...</td>\n",
       "      <td>Suffering one of the cruelest fates in the uni...</td>\n",
       "      <td>The Assassination of Paizul</td>\n",
       "      <td>MRDR</td>\n",
       "      <td>None</td>\n",
       "      <td>None</td>\n",
       "      <td>7dr7jVyXf1KUnYq5FTpV2vCZjKRR4MV94jzerb8Fi16Q</td>\n",
       "    </tr>\n",
       "    <tr>\n",
       "      <th>1</th>\n",
       "      <td>collectible</td>\n",
       "      <td>uncommon</td>\n",
       "      <td>3.0</td>\n",
       "      <td>poster</td>\n",
       "      <td>rebirth</td>\n",
       "      <td>https://storage.googleapis.com/nft-assets/ReBi...</td>\n",
       "      <td>All three factions, thinking they were the sol...</td>\n",
       "      <td>The Convergence War</td>\n",
       "      <td>TCW</td>\n",
       "      <td>None</td>\n",
       "      <td>None</td>\n",
       "      <td>36s6AFRXzE9KVdUyoJQ5y6mwxXw21LawYqqwNiQUMD8s</td>\n",
       "    </tr>\n",
       "    <tr>\n",
       "      <th>2</th>\n",
       "      <td>collectible</td>\n",
       "      <td>legendary</td>\n",
       "      <td>9.0</td>\n",
       "      <td>poster</td>\n",
       "      <td>rebirth</td>\n",
       "      <td>https://storage.googleapis.com/nft-assets/ReBi...</td>\n",
       "      <td>Their Titan class warship served as a fortifie...</td>\n",
       "      <td>The Last Stand</td>\n",
       "      <td>TLS</td>\n",
       "      <td>None</td>\n",
       "      <td>None</td>\n",
       "      <td>Hfjgcs9ix17EwgXVVbKjo6NfMm2CXfr34cwty3xWARUm</td>\n",
       "    </tr>\n",
       "    <tr>\n",
       "      <th>3</th>\n",
       "      <td>collectible</td>\n",
       "      <td>anomaly</td>\n",
       "      <td>13.0</td>\n",
       "      <td>poster</td>\n",
       "      <td>rebirth</td>\n",
       "      <td>https://storage.googleapis.com/nft-assets/ReBi...</td>\n",
       "      <td>The Photoli race are highly advanced aliens of...</td>\n",
       "      <td>Om Photoli</td>\n",
       "      <td>OMPH</td>\n",
       "      <td>None</td>\n",
       "      <td>None</td>\n",
       "      <td>DB76aiNQeLzHPwvFhzgwfpe6HGHCDTQ6snW6UD7AnHid</td>\n",
       "    </tr>\n",
       "    <tr>\n",
       "      <th>4</th>\n",
       "      <td>collectible</td>\n",
       "      <td>anomaly</td>\n",
       "      <td>14.0</td>\n",
       "      <td>poster</td>\n",
       "      <td>rebirth</td>\n",
       "      <td>https://storage.googleapis.com/nft-assets/ReBi...</td>\n",
       "      <td>“The first to arrive at the universe’s next fr...</td>\n",
       "      <td>Star Atlas</td>\n",
       "      <td>STAR</td>\n",
       "      <td>None</td>\n",
       "      <td>None</td>\n",
       "      <td>BrzwWsG845VttbTsacZMLKhyc2jAZU12MaPkTYrJHoqm</td>\n",
       "    </tr>\n",
       "    <tr>\n",
       "      <th>...</th>\n",
       "      <td>...</td>\n",
       "      <td>...</td>\n",
       "      <td>...</td>\n",
       "      <td>...</td>\n",
       "      <td>...</td>\n",
       "      <td>...</td>\n",
       "      <td>...</td>\n",
       "      <td>...</td>\n",
       "      <td>...</td>\n",
       "      <td>...</td>\n",
       "      <td>...</td>\n",
       "      <td>...</td>\n",
       "    </tr>\n",
       "    <tr>\n",
       "      <th>281</th>\n",
       "      <td>crew</td>\n",
       "      <td>silver</td>\n",
       "      <td>NaN</td>\n",
       "      <td>crew pack</td>\n",
       "      <td>pack</td>\n",
       "      <td>https://storage.googleapis.com/nft-assets/item...</td>\n",
       "      <td>Five recruitment orders laced in silver. It ca...</td>\n",
       "      <td>Silver 5 Card Pack</td>\n",
       "      <td>CREWS5</td>\n",
       "      <td>None</td>\n",
       "      <td>None</td>\n",
       "      <td>CPS5deX4R2BkA1X4SRrk5V2LqmT7CXwNdnC5syrpAmDK</td>\n",
       "    </tr>\n",
       "    <tr>\n",
       "      <th>282</th>\n",
       "      <td>crew</td>\n",
       "      <td>gold</td>\n",
       "      <td>NaN</td>\n",
       "      <td>crew pack</td>\n",
       "      <td>pack</td>\n",
       "      <td>https://storage.googleapis.com/nft-assets/item...</td>\n",
       "      <td>Five recruitment orders laced in gold. It can ...</td>\n",
       "      <td>Gold 5 Card Pack</td>\n",
       "      <td>CREWG5</td>\n",
       "      <td>None</td>\n",
       "      <td>None</td>\n",
       "      <td>CPG5JB1Z83TsYYCaVJLLpWVcoBBAnQ2T2nzmR9tbi3WU</td>\n",
       "    </tr>\n",
       "    <tr>\n",
       "      <th>283</th>\n",
       "      <td>crew</td>\n",
       "      <td>platinum</td>\n",
       "      <td>NaN</td>\n",
       "      <td>crew pack</td>\n",
       "      <td>pack</td>\n",
       "      <td>https://storage.googleapis.com/nft-assets/item...</td>\n",
       "      <td>A recruitment order laced in platinum. It can ...</td>\n",
       "      <td>Platinum 1 Card Pack</td>\n",
       "      <td>CREWP1</td>\n",
       "      <td>None</td>\n",
       "      <td>None</td>\n",
       "      <td>CPP1iv66iqZYeGEYuGAmjTbRJMbNazCWu8r2Ln5TUsc5</td>\n",
       "    </tr>\n",
       "    <tr>\n",
       "      <th>284</th>\n",
       "      <td>crew</td>\n",
       "      <td>platinum</td>\n",
       "      <td>NaN</td>\n",
       "      <td>crew pack</td>\n",
       "      <td>pack</td>\n",
       "      <td>https://storage.googleapis.com/nft-assets/item...</td>\n",
       "      <td>Five recruitment orders laced in platinum. It ...</td>\n",
       "      <td>Platinum 5 Card Pack</td>\n",
       "      <td>CREWP5</td>\n",
       "      <td>None</td>\n",
       "      <td>None</td>\n",
       "      <td>CPP5rhCt7tvjco6vbVMawzg4WHmr3Thr67y7PcBcbfSz</td>\n",
       "    </tr>\n",
       "    <tr>\n",
       "      <th>285</th>\n",
       "      <td>crew</td>\n",
       "      <td>gold</td>\n",
       "      <td>NaN</td>\n",
       "      <td>crew pack</td>\n",
       "      <td>pack</td>\n",
       "      <td>https://storage.googleapis.com/nft-assets/item...</td>\n",
       "      <td>A recruitment order laced in gold. It can be u...</td>\n",
       "      <td>Gold 1 Card Pack</td>\n",
       "      <td>CREWG1</td>\n",
       "      <td>None</td>\n",
       "      <td>None</td>\n",
       "      <td>CPG1B4jv6D2cZRkfXWawxSrE9SvhxdiDT1yKP4cNmHSe</td>\n",
       "    </tr>\n",
       "  </tbody>\n",
       "</table>\n",
       "<p>286 rows × 12 columns</p>\n",
       "</div>"
      ],
      "text/plain": [
       "        itemType     rarity  tier      class category  \\\n",
       "0    collectible       epic   6.0     poster  rebirth   \n",
       "1    collectible   uncommon   3.0     poster  rebirth   \n",
       "2    collectible  legendary   9.0     poster  rebirth   \n",
       "3    collectible    anomaly  13.0     poster  rebirth   \n",
       "4    collectible    anomaly  14.0     poster  rebirth   \n",
       "..           ...        ...   ...        ...      ...   \n",
       "281         crew     silver   NaN  crew pack     pack   \n",
       "282         crew       gold   NaN  crew pack     pack   \n",
       "283         crew   platinum   NaN  crew pack     pack   \n",
       "284         crew   platinum   NaN  crew pack     pack   \n",
       "285         crew       gold   NaN  crew pack     pack   \n",
       "\n",
       "                                                 image  \\\n",
       "0    https://storage.googleapis.com/nft-assets/ReBi...   \n",
       "1    https://storage.googleapis.com/nft-assets/ReBi...   \n",
       "2    https://storage.googleapis.com/nft-assets/ReBi...   \n",
       "3    https://storage.googleapis.com/nft-assets/ReBi...   \n",
       "4    https://storage.googleapis.com/nft-assets/ReBi...   \n",
       "..                                                 ...   \n",
       "281  https://storage.googleapis.com/nft-assets/item...   \n",
       "282  https://storage.googleapis.com/nft-assets/item...   \n",
       "283  https://storage.googleapis.com/nft-assets/item...   \n",
       "284  https://storage.googleapis.com/nft-assets/item...   \n",
       "285  https://storage.googleapis.com/nft-assets/item...   \n",
       "\n",
       "                                           description  \\\n",
       "0    Suffering one of the cruelest fates in the uni...   \n",
       "1    All three factions, thinking they were the sol...   \n",
       "2    Their Titan class warship served as a fortifie...   \n",
       "3    The Photoli race are highly advanced aliens of...   \n",
       "4    “The first to arrive at the universe’s next fr...   \n",
       "..                                                 ...   \n",
       "281  Five recruitment orders laced in silver. It ca...   \n",
       "282  Five recruitment orders laced in gold. It can ...   \n",
       "283  A recruitment order laced in platinum. It can ...   \n",
       "284  Five recruitment orders laced in platinum. It ...   \n",
       "285  A recruitment order laced in gold. It can be u...   \n",
       "\n",
       "                            name  symbol  make model  \\\n",
       "0    The Assassination of Paizul    MRDR  None  None   \n",
       "1            The Convergence War     TCW  None  None   \n",
       "2                 The Last Stand     TLS  None  None   \n",
       "3                     Om Photoli    OMPH  None  None   \n",
       "4                     Star Atlas    STAR  None  None   \n",
       "..                           ...     ...   ...   ...   \n",
       "281           Silver 5 Card Pack  CREWS5  None  None   \n",
       "282             Gold 5 Card Pack  CREWG5  None  None   \n",
       "283         Platinum 1 Card Pack  CREWP1  None  None   \n",
       "284         Platinum 5 Card Pack  CREWP5  None  None   \n",
       "285             Gold 1 Card Pack  CREWG1  None  None   \n",
       "\n",
       "                                          mint_id  \n",
       "0    7dr7jVyXf1KUnYq5FTpV2vCZjKRR4MV94jzerb8Fi16Q  \n",
       "1    36s6AFRXzE9KVdUyoJQ5y6mwxXw21LawYqqwNiQUMD8s  \n",
       "2    Hfjgcs9ix17EwgXVVbKjo6NfMm2CXfr34cwty3xWARUm  \n",
       "3    DB76aiNQeLzHPwvFhzgwfpe6HGHCDTQ6snW6UD7AnHid  \n",
       "4    BrzwWsG845VttbTsacZMLKhyc2jAZU12MaPkTYrJHoqm  \n",
       "..                                            ...  \n",
       "281  CPS5deX4R2BkA1X4SRrk5V2LqmT7CXwNdnC5syrpAmDK  \n",
       "282  CPG5JB1Z83TsYYCaVJLLpWVcoBBAnQ2T2nzmR9tbi3WU  \n",
       "283  CPP1iv66iqZYeGEYuGAmjTbRJMbNazCWu8r2Ln5TUsc5  \n",
       "284  CPP5rhCt7tvjco6vbVMawzg4WHmr3Thr67y7PcBcbfSz  \n",
       "285  CPG1B4jv6D2cZRkfXWawxSrE9SvhxdiDT1yKP4cNmHSe  \n",
       "\n",
       "[286 rows x 12 columns]"
      ]
     },
     "execution_count": 4,
     "metadata": {},
     "output_type": "execute_result"
    }
   ],
   "source": [
    "create_table_from_json(items)"
   ]
  },
  {
   "cell_type": "code",
   "execution_count": 5,
   "metadata": {},
   "outputs": [],
   "source": [
    "items_df = create_table_from_json(items)"
   ]
  },
  {
   "cell_type": "code",
   "execution_count": 6,
   "metadata": {},
   "outputs": [],
   "source": [
    "# convert class catergory rarity and tier and itemType lower case\n",
    "# handle the Nan Error while converting to lower case\n",
    "\n",
    "items_df['class'] = items_df['class'].apply(lambda x: x.lower() if x else x)\n",
    "items_df['category'] = items_df['category'].apply(lambda x: x.lower() if x else x)\n",
    "items_df['rarity'] = items_df['rarity'].apply(lambda x: x.lower() if x else x)\n",
    "items_df['itemType'] = items_df['itemType'].apply(lambda x: x.lower() if x else x)\n"
   ]
  },
  {
   "cell_type": "code",
   "execution_count": null,
   "metadata": {},
   "outputs": [],
   "source": []
  },
  {
   "cell_type": "code",
   "execution_count": 7,
   "metadata": {},
   "outputs": [
    {
     "data": {
      "text/plain": [
       "array(['collectible', 'access', 'ship', 'structure', 'crew', 'resource',\n",
       "       'story', 'currency', 'memories'], dtype=object)"
      ]
     },
     "execution_count": 7,
     "metadata": {},
     "output_type": "execute_result"
    }
   ],
   "source": [
    "items_df[\"itemType\"].unique()"
   ]
  },
  {
   "cell_type": "code",
   "execution_count": 8,
   "metadata": {},
   "outputs": [
    {
     "data": {
      "text/plain": [
       "array(['rebirth', 'access', 'cosmetic', 'solarpunk', 'ship', 'equipment',\n",
       "       'structure', 'pet', 'mud', 'resource', 'collectible', None,\n",
       "       'residential', 'yard item', 'crafting station', 'cargo storage',\n",
       "       'paint', 'landing pad', 'mining', 'sage', 'currency', 'memories',\n",
       "       'story', 'ustur', 'oni', 'pack', 'emergence'], dtype=object)"
      ]
     },
     "execution_count": 8,
     "metadata": {},
     "output_type": "execute_result"
    }
   ],
   "source": [
    "items_df[\"category\"].unique()"
   ]
  },
  {
   "cell_type": "code",
   "execution_count": 9,
   "metadata": {},
   "outputs": [
    {
     "data": {
      "text/plain": [
       "array(['poster', 'badge', 'skin', 'emote', 'medium', 'capital', 'license',\n",
       "       'crew gear', 'mining equipment', 'space station structure',\n",
       "       'x-small', 'pet', 'large', 'crew card', 'small', 'xx-small',\n",
       "       'charm', 'commander', 'consumable', 'graphic-novel', 'titan',\n",
       "       'stake', 'housing', 'hab assets', 'material bundle', 'currency',\n",
       "       'memories', 'raw material', 'compound material', 'component',\n",
       "       'data', 'trinket', 'contracts', 'trophy', 'crew pack'],\n",
       "      dtype=object)"
      ]
     },
     "execution_count": 9,
     "metadata": {},
     "output_type": "execute_result"
    }
   ],
   "source": [
    "items_df[\"class\"].unique()"
   ]
  },
  {
   "cell_type": "code",
   "execution_count": 10,
   "metadata": {},
   "outputs": [],
   "source": [
    "soreted_item_df = items_df.sort_values(by=['category', 'class', 'rarity', 'tier']).reset_index(drop=True)"
   ]
  },
  {
   "cell_type": "code",
   "execution_count": 11,
   "metadata": {},
   "outputs": [],
   "source": [
    "soreted_renamed_item_df = soreted_item_df.drop_duplicates(subset='name')\n",
    "soreted_renamed_item_df = soreted_renamed_item_df.set_index('name')"
   ]
  },
  {
   "cell_type": "code",
   "execution_count": 13,
   "metadata": {},
   "outputs": [],
   "source": [
    "soreted_renamed_item_df.T.to_json('item_data.json')"
   ]
  },
  {
   "cell_type": "markdown",
   "metadata": {},
   "source": [
    "# Reverse Map"
   ]
  },
  {
   "cell_type": "code",
   "execution_count": 15,
   "metadata": {},
   "outputs": [],
   "source": [
    "mapping_all_data_dict = soreted_renamed_item_df.T.to_dict()"
   ]
  },
  {
   "cell_type": "code",
   "execution_count": 18,
   "metadata": {},
   "outputs": [
    {
     "data": {
      "text/plain": [
       "dict_keys(['itemType', 'rarity', 'tier', 'class', 'category', 'image', 'description', 'symbol', 'make', 'model', 'mint_id'])"
      ]
     },
     "execution_count": 18,
     "metadata": {},
     "output_type": "execute_result"
    }
   ],
   "source": [
    "mapping_all_data_dict[\"Executive Badge\"].keys()"
   ]
  },
  {
   "cell_type": "code",
   "execution_count": 22,
   "metadata": {},
   "outputs": [],
   "source": [
    "reverse_map = {}\n",
    "\n",
    "# makes the index as name and uses mint_id as key\n",
    "\n",
    "for key, value in mapping_all_data_dict.items():\n",
    "    reverse_map[value[\"mint_id\"]] = value\n",
    "    reverse_map[value[\"mint_id\"]][\"name\"] = key\n",
    "    "
   ]
  },
  {
   "cell_type": "code",
   "execution_count": 24,
   "metadata": {},
   "outputs": [],
   "source": [
    "# save the reverse map to json\n",
    "with open('reverse_map.json', 'w') as f:\n",
    "    json.dump(reverse_map, f)\n"
   ]
  },
  {
   "cell_type": "markdown",
   "metadata": {},
   "source": [
    "# Category Map"
   ]
  },
  {
   "cell_type": "code",
   "execution_count": 16,
   "metadata": {},
   "outputs": [],
   "source": [
    "category_map = {}\n",
    "\n",
    "for index, row in soreted_item_df.iterrows():\n",
    "    type_i      = row['itemType']\n",
    "    category    = row['category']\n",
    "    \n",
    "    \n",
    "    if type_i not in category_map:\n",
    "        category_map[type_i] = []\n",
    "\n",
    "    if category not in category_map[type_i]:\n",
    "        category_map[type_i].append( category)\n",
    "    \n",
    "json.dump(category_map, open('category_map_min.json', 'w'))"
   ]
  },
  {
   "cell_type": "code",
   "execution_count": 17,
   "metadata": {},
   "outputs": [],
   "source": [
    "# I want to crate a crategory and subcategory map as a dictionary, \n",
    "# mapping order category, class, rarity\n",
    "\n",
    "category_map = {}\n",
    "\n",
    "for index, row in soreted_item_df.iterrows():\n",
    "    type_i      = row['itemType']\n",
    "    category    = row['category']\n",
    "    class_      = row['class']\n",
    "\n",
    "    \n",
    "    \n",
    "    if type_i not in category_map:\n",
    "        category_map[type_i] = {}\n",
    "    if category not in category_map[type_i]:\n",
    "        category_map[type_i][category] = []\n",
    "\n",
    "    if class_ not in category_map[type_i][category]:\n",
    "        category_map[type_i][category].append( class_)\n",
    "    \n",
    "json.dump(category_map, open('category_map_medium.json', 'w'))"
   ]
  },
  {
   "cell_type": "code",
   "execution_count": 18,
   "metadata": {},
   "outputs": [],
   "source": [
    "# I want to crate a crategory and subcategory map as a dictionary, \n",
    "# mapping order category, class, rarity\n",
    "\n",
    "category_map = {}\n",
    "\n",
    "for index, row in soreted_item_df.iterrows():\n",
    "    type_i      = row['itemType']\n",
    "    category    = row['category']\n",
    "    class_      = row['class']\n",
    "    rarity      = row['rarity']\n",
    "    \n",
    "    \n",
    "    if type_i not in category_map:\n",
    "        category_map[type_i] = {}\n",
    "    if category not in category_map[type_i]:\n",
    "        category_map[type_i][category] = {}\n",
    "    if class_ not in category_map[type_i][category]:\n",
    "        category_map[type_i][category][class_] = {}\n",
    "    if rarity not in category_map[type_i][category][class_]:\n",
    "        category_map[type_i][category][class_][rarity] = []\n",
    "\n",
    "    category_map[type_i][category][class_][rarity].append( row['name'])\n",
    "    \n",
    "json.dump(category_map, open('category_map_large.json', 'w'))"
   ]
  },
  {
   "cell_type": "markdown",
   "metadata": {},
   "source": [
    "# Get Detialed Information for mapping"
   ]
  },
  {
   "cell_type": "code",
   "execution_count": 23,
   "metadata": {},
   "outputs": [],
   "source": [
    "def extract_item_data_detailed(item):\n",
    "    return {\n",
    "        \"_id\": item.get(\"_id\"),\n",
    "        \"attribute\": item.get(\"attributes\", {}),\n",
    "        \"image\": item.get(\"image\"),\n",
    "        \"description\": item.get(\"description\"),\n",
    "        \"name\": item.get(\"name\"),\n",
    "        \"symbol\": item.get(\"symbol\"),\n",
    "        \"mint_id\" : item.get(\"mint\"),\n",
    "        \"collection\": item.get(\"collection\"),\n",
    "        \"slots\": item.get(\"slots\")\n",
    "    }"
   ]
  },
  {
   "cell_type": "code",
   "execution_count": 24,
   "metadata": {},
   "outputs": [],
   "source": [
    "detial_items = {}\n",
    "\n",
    "for item in items:\n",
    "    info = extract_item_data_detailed(item)\n",
    "    detial_items[info[\"mint_id\"]] = info\n",
    "    "
   ]
  },
  {
   "cell_type": "code",
   "execution_count": 21,
   "metadata": {},
   "outputs": [],
   "source": [
    "# convert into JSON:\n",
    "json_detial_items = json.dump(detial_items, open('detial_items.json', 'w'))\n"
   ]
  },
  {
   "cell_type": "markdown",
   "metadata": {},
   "source": [
    "# Mint ID map "
   ]
  },
  {
   "cell_type": "code",
   "execution_count": 31,
   "metadata": {},
   "outputs": [],
   "source": [
    "import json\n",
    "import pandas as pd\n",
    "\n",
    "def parse_json_file(file_path):\n",
    "    with open(file_path, 'r') as file:\n",
    "        data = json.load(file)\n",
    "    return data\n",
    "\n",
    "def extract_item_data_mint_map(item):\n",
    "    return {\n",
    "        # \"_id\": item.get(\"_id\"),\n",
    "        \"itemType\": str(item.get(\"attributes\", {}).get(\"itemType\")).lower(),\n",
    "        \"name\": item.get(\"name\"),\n",
    "        \"symbol\": item.get(\"symbol\"),\n",
    "        \"mint_id\" : item.get(\"mint\"),\n",
    "    }\n",
    "\n",
    "def create_table_from_json_mint_map(all_items):\n",
    "\n",
    "    extracted_data = [extract_item_data_mint_map(item) for item in all_items]\n",
    "    df = pd.DataFrame(extracted_data)\n",
    "    return df\n"
   ]
  },
  {
   "cell_type": "code",
   "execution_count": 32,
   "metadata": {},
   "outputs": [],
   "source": [
    "items_df = create_table_from_json_mint_map(items)"
   ]
  },
  {
   "cell_type": "code",
   "execution_count": 33,
   "metadata": {},
   "outputs": [],
   "source": [
    "soreted_item_df = items_df.sort_values(by=['itemType']).reset_index(drop=True)"
   ]
  },
  {
   "cell_type": "code",
   "execution_count": 34,
   "metadata": {},
   "outputs": [],
   "source": [
    "# remove duplicate and change index to name \n",
    "soreted_item_df = soreted_item_df.drop_duplicates(subset='name')\n",
    "soreted_item_df = soreted_item_df.set_index('name')"
   ]
  },
  {
   "cell_type": "code",
   "execution_count": 35,
   "metadata": {},
   "outputs": [
    {
     "data": {
      "text/html": [
       "<div>\n",
       "<style scoped>\n",
       "    .dataframe tbody tr th:only-of-type {\n",
       "        vertical-align: middle;\n",
       "    }\n",
       "\n",
       "    .dataframe tbody tr th {\n",
       "        vertical-align: top;\n",
       "    }\n",
       "\n",
       "    .dataframe thead th {\n",
       "        text-align: right;\n",
       "    }\n",
       "</style>\n",
       "<table border=\"1\" class=\"dataframe\">\n",
       "  <thead>\n",
       "    <tr style=\"text-align: right;\">\n",
       "      <th></th>\n",
       "      <th>itemType</th>\n",
       "      <th>symbol</th>\n",
       "      <th>mint_id</th>\n",
       "    </tr>\n",
       "    <tr>\n",
       "      <th>name</th>\n",
       "      <th></th>\n",
       "      <th></th>\n",
       "      <th></th>\n",
       "    </tr>\n",
       "  </thead>\n",
       "  <tbody>\n",
       "    <tr>\n",
       "      <th>Brew Badge</th>\n",
       "      <td>access</td>\n",
       "      <td>BGBREW</td>\n",
       "      <td>BREWN24ym1AGwWxTzuVVth8W2a9fkQkJYCiJXWh349uC</td>\n",
       "    </tr>\n",
       "    <tr>\n",
       "      <th>VIP</th>\n",
       "      <td>access</td>\n",
       "      <td>VIP</td>\n",
       "      <td>CVy9zWnF7y15FeqEvV3ZsMdnMDG25na3NWHzx8xQvcG2</td>\n",
       "    </tr>\n",
       "    <tr>\n",
       "      <th>Honeyland Explorer Badge</th>\n",
       "      <td>access</td>\n",
       "      <td>HONEY</td>\n",
       "      <td>HoNYeNCD6WidPRYgsrgjfRjUJodPWU4yNG2HBawGi3Ht</td>\n",
       "    </tr>\n",
       "    <tr>\n",
       "      <th>Faction Meta-PAS</th>\n",
       "      <td>access</td>\n",
       "      <td>MPAS</td>\n",
       "      <td>6hSPiSuZiD9k6wzdJWMxZcj9bQUPDBu7pQ6Zwb4imXYs</td>\n",
       "    </tr>\n",
       "    <tr>\n",
       "      <th>Unique Badge</th>\n",
       "      <td>access</td>\n",
       "      <td>BGUNQ</td>\n",
       "      <td>BUtLhi4ohcuYiFooWhZyWxQXKceZLCLNS3BHGXnmnhqM</td>\n",
       "    </tr>\n",
       "    <tr>\n",
       "      <th>...</th>\n",
       "      <td>...</td>\n",
       "      <td>...</td>\n",
       "      <td>...</td>\n",
       "    </tr>\n",
       "    <tr>\n",
       "      <th>Mining Drill</th>\n",
       "      <td>structure</td>\n",
       "      <td>MSD1</td>\n",
       "      <td>AuxCj2T4Mdb6h5i1pZd2yDJy5pdiEpZCPtTHAR1DqKdT</td>\n",
       "    </tr>\n",
       "    <tr>\n",
       "      <th>Ustur CSS Tier 1</th>\n",
       "      <td>structure</td>\n",
       "      <td>CSSLU1</td>\n",
       "      <td>J7A3piAwSrhLAocV2FSzxrzR2aA6x1ExQNmUsrvsBrfy</td>\n",
       "    </tr>\n",
       "    <tr>\n",
       "      <th>MUD CSS Base Tier</th>\n",
       "      <td>structure</td>\n",
       "      <td>CSSLM0</td>\n",
       "      <td>GzhGEoio3w5hwxF61e5XtrzjTAm4AzVPRAgMKSfrAWZq</td>\n",
       "    </tr>\n",
       "    <tr>\n",
       "      <th>Ustur CSS Base Tier</th>\n",
       "      <td>structure</td>\n",
       "      <td>CSSLU0</td>\n",
       "      <td>ECRmDrmjcGJZfuibjyYanCK3Fwmi3uSy9Vd1iKLeG2Wx</td>\n",
       "    </tr>\n",
       "    <tr>\n",
       "      <th>MUD CSS Tier 2</th>\n",
       "      <td>structure</td>\n",
       "      <td>CSSLM2</td>\n",
       "      <td>HbZFd8KQ8HrCERD4boPUGvSqo24ELmRaBnCMyy2H1dm7</td>\n",
       "    </tr>\n",
       "  </tbody>\n",
       "</table>\n",
       "<p>285 rows × 3 columns</p>\n",
       "</div>"
      ],
      "text/plain": [
       "                           itemType  symbol  \\\n",
       "name                                          \n",
       "Brew Badge                   access  BGBREW   \n",
       "VIP                          access     VIP   \n",
       "Honeyland Explorer Badge     access   HONEY   \n",
       "Faction Meta-PAS             access    MPAS   \n",
       "Unique Badge                 access   BGUNQ   \n",
       "...                             ...     ...   \n",
       "Mining Drill              structure    MSD1   \n",
       "Ustur CSS Tier 1          structure  CSSLU1   \n",
       "MUD CSS Base Tier         structure  CSSLM0   \n",
       "Ustur CSS Base Tier       structure  CSSLU0   \n",
       "MUD CSS Tier 2            structure  CSSLM2   \n",
       "\n",
       "                                                               mint_id  \n",
       "name                                                                    \n",
       "Brew Badge                BREWN24ym1AGwWxTzuVVth8W2a9fkQkJYCiJXWh349uC  \n",
       "VIP                       CVy9zWnF7y15FeqEvV3ZsMdnMDG25na3NWHzx8xQvcG2  \n",
       "Honeyland Explorer Badge  HoNYeNCD6WidPRYgsrgjfRjUJodPWU4yNG2HBawGi3Ht  \n",
       "Faction Meta-PAS          6hSPiSuZiD9k6wzdJWMxZcj9bQUPDBu7pQ6Zwb4imXYs  \n",
       "Unique Badge              BUtLhi4ohcuYiFooWhZyWxQXKceZLCLNS3BHGXnmnhqM  \n",
       "...                                                                ...  \n",
       "Mining Drill              AuxCj2T4Mdb6h5i1pZd2yDJy5pdiEpZCPtTHAR1DqKdT  \n",
       "Ustur CSS Tier 1          J7A3piAwSrhLAocV2FSzxrzR2aA6x1ExQNmUsrvsBrfy  \n",
       "MUD CSS Base Tier         GzhGEoio3w5hwxF61e5XtrzjTAm4AzVPRAgMKSfrAWZq  \n",
       "Ustur CSS Base Tier       ECRmDrmjcGJZfuibjyYanCK3Fwmi3uSy9Vd1iKLeG2Wx  \n",
       "MUD CSS Tier 2            HbZFd8KQ8HrCERD4boPUGvSqo24ELmRaBnCMyy2H1dm7  \n",
       "\n",
       "[285 rows x 3 columns]"
      ]
     },
     "execution_count": 35,
     "metadata": {},
     "output_type": "execute_result"
    }
   ],
   "source": [
    "soreted_item_df"
   ]
  },
  {
   "cell_type": "code",
   "execution_count": 36,
   "metadata": {},
   "outputs": [],
   "source": [
    "soreted_item_df.T.to_json('mint_id_map.json')"
   ]
  },
  {
   "cell_type": "code",
   "execution_count": null,
   "metadata": {},
   "outputs": [],
   "source": []
  }
 ],
 "metadata": {
  "kernelspec": {
   "display_name": "flask",
   "language": "python",
   "name": "python3"
  },
  "language_info": {
   "codemirror_mode": {
    "name": "ipython",
    "version": 3
   },
   "file_extension": ".py",
   "mimetype": "text/x-python",
   "name": "python",
   "nbconvert_exporter": "python",
   "pygments_lexer": "ipython3",
   "version": "3.12.4"
  }
 },
 "nbformat": 4,
 "nbformat_minor": 2
}
