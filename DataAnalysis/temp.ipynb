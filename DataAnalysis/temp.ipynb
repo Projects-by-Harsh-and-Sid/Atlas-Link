{
 "cells": [
  {
   "cell_type": "code",
   "execution_count": null,
   "metadata": {},
   "outputs": [],
   "source": [
    "def get_account_address(func_to_wrap):\n",
    "\n",
    "    @wraps(func_to_wrap)\n",
    "    def inner_function(*args, **kwargs):\n",
    "        \n",
    "        \n",
    "        \n",
    "        return None\n",
    "    \n",
    "    return inner_function\n"
   ]
  }
 ],
 "metadata": {
  "kernelspec": {
   "display_name": "flask",
   "language": "python",
   "name": "python3"
  },
  "language_info": {
   "name": "python",
   "version": "3.12.4"
  }
 },
 "nbformat": 4,
 "nbformat_minor": 2
}
